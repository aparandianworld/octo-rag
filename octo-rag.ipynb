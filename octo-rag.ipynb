{
 "cells": [
  {
   "cell_type": "code",
   "execution_count": 9,
   "id": "ae063941",
   "metadata": {},
   "outputs": [
    {
     "name": "stdout",
     "output_type": "stream",
     "text": [
      "OPENAI_API_KEY: is set\n",
      "OPENAI_BASE_URL: is set\n",
      "OPENAI_MODEL: is set\n",
      "\n",
      "Response: The capital of Italy is Rome.\n"
     ]
    }
   ],
   "source": [
    "import os\n",
    "import dotenv\n",
    "from llama_index.llms.openai import OpenAI\n",
    "\n",
    "def load_environment():\n",
    "\n",
    "    try:\n",
    "        env_file = \".env\"\n",
    "        required_env_vars = [\"OPENAI_API_KEY\", \"OPENAI_BASE_URL\", \"OPENAI_MODEL\"]\n",
    "        \n",
    "        dotenv.load_dotenv(dotenv_path=env_file)\n",
    "        for var in required_env_vars:\n",
    "            value = os.getenv(var)\n",
    "            print(f\"{var}: {'is set' if value else 'is not set'}\")\n",
    "            if not value:\n",
    "                print(f\"Error: {var} is not set\")\n",
    "                return False\n",
    "        \n",
    "        return True\n",
    "\n",
    "    except Exception as e:\n",
    "        print(f\"Error loading environment: {e}\")\n",
    "        return False\n",
    "\n",
    "def initialize_llm():\n",
    "    return OpenAI(\n",
    "        model = os.getenv(\"OPENAI_MODEL\", \"gpt-4o-mini\"),\n",
    "        api_key = os.getenv(\"OPENAI_API_KEY\"),\n",
    "        api_base = os.getenv(\"OPENAI_BASE_URL\")\n",
    "    )\n",
    "\n",
    "if load_environment():\n",
    "    try:\n",
    "        llm = initialize_llm()\n",
    "        response = llm.complete(\"What is the capital of Italy?\")\n",
    "        print(f\"\\nResponse: {response.text}\")\n",
    "    except Exception as e:\n",
    "        print(f\"Error: {e}\")\n",
    "else:\n",
    "    print(\"Environment variables not loaded\")"
   ]
  }
 ],
 "metadata": {
  "kernelspec": {
   "display_name": "octo-rag",
   "language": "python",
   "name": "python3"
  },
  "language_info": {
   "codemirror_mode": {
    "name": "ipython",
    "version": 3
   },
   "file_extension": ".py",
   "mimetype": "text/x-python",
   "name": "python",
   "nbconvert_exporter": "python",
   "pygments_lexer": "ipython3",
   "version": "3.12.0"
  }
 },
 "nbformat": 4,
 "nbformat_minor": 5
}
