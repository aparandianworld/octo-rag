{
 "cells": [
  {
   "cell_type": "code",
   "execution_count": 1,
   "id": "ae063941",
   "metadata": {},
   "outputs": [
    {
     "name": "stdout",
     "output_type": "stream",
     "text": [
      "OPENAI_API_KEY: is set\n",
      "OPENAI_BASE_URL: is set\n",
      "OPENAI_MODEL: is set\n",
      "Initializing LLM...\n",
      "LLM initialized successfully\n",
      "Making API request with query: What is the capital of Italy?\n",
      "API response: The capital of Italy is Rome.\n"
     ]
    }
   ],
   "source": [
    "import os\n",
    "import dotenv\n",
    "from llama_index.llms.openai import OpenAI\n",
    "\n",
    "def load_environment(env_file = \".env\"):\n",
    "\n",
    "    try:\n",
    "        env_file = os.path.abspath(env_file)\n",
    "        if not os.path.exists(env_file):\n",
    "            print(f\"Error: {env_file} does not exist\")\n",
    "            return False\n",
    "        \n",
    "        required_env_vars = [\"OPENAI_API_KEY\", \"OPENAI_BASE_URL\", \"OPENAI_MODEL\"]\n",
    "        dotenv.load_dotenv(dotenv_path=env_file)\n",
    "        \n",
    "        for var in required_env_vars:\n",
    "            value = os.getenv(var)\n",
    "            print(f\"{var}: {'is set' if value else 'is not set'}\")\n",
    "            if not value:\n",
    "                print(f\"Error: {var} is not set\")\n",
    "                return False\n",
    "        \n",
    "        return True\n",
    "\n",
    "    except Exception as e:\n",
    "        print(f\"Error loading environment: {e}\")\n",
    "        return False\n",
    "\n",
    "def initialize_llm():\n",
    "    return OpenAI(\n",
    "        model = os.getenv(\"OPENAI_MODEL\", \"gpt-4o-mini\"),\n",
    "        api_key = os.getenv(\"OPENAI_API_KEY\"),\n",
    "        api_base = \"https://api.openai.com/v1\"\n",
    "    )\n",
    "\n",
    "def main(query = \"What is the capital of Italy?\"):\n",
    "    if not load_environment():\n",
    "        print(f\"Environment variables not loaded. Exiting.\")\n",
    "        return\n",
    "    \n",
    "    try:\n",
    "        print(\"Initializing LLM...\")\n",
    "        llm = initialize_llm()\n",
    "        print(\"LLM initialized successfully\")\n",
    "        print(f\"Making API request with query: {query}\")\n",
    "        response = llm.complete(query)\n",
    "        print(f\"API response: {response}\")\n",
    "    except Exception as e:\n",
    "        print(f\"Error making API request: {e}\")\n",
    "        print(f\"Error type: {type(e)}\")\n",
    "    \n",
    "    \n",
    "if __name__ == \"__main__\":\n",
    "    main()"
   ]
  }
 ],
 "metadata": {
  "kernelspec": {
   "display_name": "octo-rag",
   "language": "python",
   "name": "python3"
  },
  "language_info": {
   "codemirror_mode": {
    "name": "ipython",
    "version": 3
   },
   "file_extension": ".py",
   "mimetype": "text/x-python",
   "name": "python",
   "nbconvert_exporter": "python",
   "pygments_lexer": "ipython3",
   "version": "3.12.0"
  }
 },
 "nbformat": 4,
 "nbformat_minor": 5
}
