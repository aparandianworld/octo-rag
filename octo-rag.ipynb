{
 "cells": [
  {
   "cell_type": "code",
   "execution_count": 7,
   "id": "ae063941",
   "metadata": {},
   "outputs": [
    {
     "name": "stdout",
     "output_type": "stream",
     "text": [
      "OPENAI_API_KEY: is set\n",
      "The capital of Italy is Rome.\n"
     ]
    }
   ],
   "source": [
    "import os\n",
    "import dotenv\n",
    "from llama_index.llms.openai import OpenAI\n",
    "\n",
    "OPENAI_BASE_URL=\"https://models.inference.ai.azure.com/\"\n",
    "OPENAI_MODEL = \"gpt-4o-mini\"\n",
    "\n",
    "def load_environment():\n",
    "\n",
    "    try:\n",
    "        env_file = \".env\"\n",
    "        required_env_vars = [\"OPENAI_API_KEY\"]\n",
    "        \n",
    "        dotenv.load_dotenv(dotenv_path=env_file)\n",
    "        for var in required_env_vars:\n",
    "            value = os.getenv(var)\n",
    "            print(f\"{var}: {'is set' if value else 'is not set'}\")\n",
    "            if not value:\n",
    "                print(f\"Error: {var} is not set\")\n",
    "                return False\n",
    "        \n",
    "        return True\n",
    "\n",
    "    except Exception as e:\n",
    "        print(f\"Error loading environment: {e}\")\n",
    "        return False\n",
    "\n",
    "def initialize_llm():\n",
    "    return OpenAI(\n",
    "        model = OPENAI_MODEL,\n",
    "        api_key = os.getenv(\"OPENAI_API_KEY\"),\n",
    "        api_base = OPENAI_BASE_URL\n",
    "    )\n",
    "\n",
    "if load_environment():\n",
    "    try:\n",
    "        llm = initialize_llm()\n",
    "        response = llm.complete(\"What is the capital of Italy?\")\n",
    "        print(response.text)\n",
    "    except Exception as e:\n",
    "        print(f\"Error: {e}\")\n",
    "else:\n",
    "    print(\"Environment variables not loaded\")"
   ]
  }
 ],
 "metadata": {
  "kernelspec": {
   "display_name": "octo-rag",
   "language": "python",
   "name": "python3"
  },
  "language_info": {
   "codemirror_mode": {
    "name": "ipython",
    "version": 3
   },
   "file_extension": ".py",
   "mimetype": "text/x-python",
   "name": "python",
   "nbconvert_exporter": "python",
   "pygments_lexer": "ipython3",
   "version": "3.12.0"
  }
 },
 "nbformat": 4,
 "nbformat_minor": 5
}
